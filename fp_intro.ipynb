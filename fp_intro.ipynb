{
 "cells": [
  {
   "cell_type": "markdown",
   "metadata": {
    "tags": [
     "outline"
    ]
   },
   "source": [
    "# Outline\n",
    "\n",
    "* Intro / motivation to dive into functional programming (FP)\n",
    "* Spark\n",
    "* Intro to FP in Scala"
   ]
  },
  {
   "cell_type": "markdown",
   "metadata": {
    "slideshow": {
     "slide_type": "slide"
    },
    "tags": [
     "outline"
    ]
   },
   "source": [
    "# How can FP help you produce better code?\n",
    "\n",
    "* Relieve some of the burden of flow control\n",
    "* Control side effects\n",
    "* Improved error handling\n",
    "* More reliable programs\n",
    "* Ease the burden of testing by using the type system to ensure correctness"
   ]
  },
  {
   "cell_type": "markdown",
   "metadata": {
    "slideshow": {
     "slide_type": "slide"
    }
   },
   "source": [
    "# Example: calculate the histogram / PDF "
   ]
  },
  {
   "cell_type": "code",
   "execution_count": 11,
   "metadata": {},
   "outputs": [],
   "source": [
    "from typing import Sequence, Any\n",
    "def pdf(xs: Sequence[Any]) -> Sequence[float]:\n",
    "    # TODO: implement\n",
    "    raise NotImplementedError(\"!\")"
   ]
  },
  {
   "cell_type": "code",
   "execution_count": 18,
   "metadata": {
    "slideshow": {
     "slide_type": "slide"
    }
   },
   "outputs": [
    {
     "name": "stdout",
     "output_type": "stream",
     "text": [
      "[('man', 0.2), ('woman', 0.2), ('person', 0.2), ('camera', 0.2), ('tv', 0.2)]\n"
     ]
    }
   ],
   "source": [
    "from collections import defaultdict\n",
    "def pdf(xs: Sequence[Any]) -> Sequence[float]:\n",
    "    \"\"\"returns a list of tuples with element and probability\"\"\"\n",
    "    freq = defaultdict(lambda: 0)\n",
    "    total = 0\n",
    "    for x in xs:\n",
    "        freq[x] += 1\n",
    "        total += 1\n",
    "    for k,v in freq.items():\n",
    "        freq[k] /= total\n",
    "    return list(freq.items())  \n",
    "\n",
    "xs = ['man', 'woman', 'person', 'camera', 'tv']\n",
    "print(pdf(xs))"
   ]
  },
  {
   "cell_type": "markdown",
   "metadata": {
    "slideshow": {
     "slide_type": "slide"
    }
   },
   "source": [
    "![map](https://d33wubrfki0l68.cloudfront.net/f0494d020aa517ae7b1011cea4c4a9f21702df8b/2577b/diagrams/functionals/map.png)"
   ]
  },
  {
   "cell_type": "markdown",
   "metadata": {
    "slideshow": {
     "slide_type": "slide"
    }
   },
   "source": [
    "![reduce](https://d33wubrfki0l68.cloudfront.net/9c239e1227c69b7a2c9c2df234c21f3e1c74dd57/eec0e/diagrams/functionals/reduce.png)"
   ]
  },
  {
   "cell_type": "code",
   "execution_count": 23,
   "metadata": {
    "slideshow": {
     "slide_type": "slide"
    }
   },
   "outputs": [
    {
     "data": {
      "text/html": [
       "<table>\n",
       "<tbody>\n",
       "<tr><td>c</td><td style=\"text-align: right;\">5</td></tr>\n",
       "<tr><td>b</td><td style=\"text-align: right;\">3</td></tr>\n",
       "<tr><td>a</td><td style=\"text-align: right;\">2</td></tr>\n",
       "</tbody>\n",
       "</table>"
      ],
      "text/plain": [
       "[('c', 5), ('b', 3), ('a', 2)]"
      ]
     },
     "execution_count": 23,
     "metadata": {},
     "output_type": "execute_result"
    }
   ],
   "source": [
    "from functional import seq\n",
    "import numpy as np\n",
    "xs = np.random.choice(['a', 'b', 'c'], size=10)\n",
    "\n",
    "counts = seq(xs).map(lambda x: (x, 1)).reduce_by_key(lambda x, y: x + y)\n",
    "counts  "
   ]
  },
  {
   "cell_type": "code",
   "execution_count": 26,
   "metadata": {
    "slideshow": {
     "slide_type": "slide"
    }
   },
   "outputs": [
    {
     "data": {
      "text/plain": [
       "[('a', 0.2), ('b', 0.3), ('c', 0.5)]"
      ]
     },
     "execution_count": 26,
     "metadata": {},
     "output_type": "execute_result"
    }
   ],
   "source": [
    "total = counts.map(lambda x: x[1]).sum()\n",
    "result_pdf = counts.map(lambda x: (x[0], x[1] / total)).sorted().list()\n",
    "result_pdf"
   ]
  },
  {
   "cell_type": "code",
   "execution_count": 27,
   "metadata": {
    "slideshow": {
     "slide_type": "slide"
    }
   },
   "outputs": [],
   "source": [
    "def pdf(xs: Sequence[Any]) -> Sequence[float]:\n",
    "    counts = seq(xs).map(lambda x: (x, 1)).reduce_by_key(lambda x, y: x + y)\n",
    "    total = counts.map(lambda x: x[1]).sum()\n",
    "    result_pdf = counts.map(lambda x: (x[0], x[1] / total)).sorted().list()\n",
    "    return result_pdf"
   ]
  },
  {
   "cell_type": "code",
   "execution_count": 30,
   "metadata": {
    "slideshow": {
     "slide_type": "subslide"
    }
   },
   "outputs": [
    {
     "name": "stdout",
     "output_type": "stream",
     "text": [
      "[('a', 0.2), ('b', 0.3), ('c', 0.5)]\n"
     ]
    }
   ],
   "source": [
    "print(pdf(xs))"
   ]
  },
  {
   "cell_type": "markdown",
   "metadata": {
    "slideshow": {
     "slide_type": "slide"
    }
   },
   "source": [
    "# Comparison\n",
    "\n",
    "```\n",
    "    freq = defaultdict(lambda: 0)\n",
    "    total = 0\n",
    "    for x in xs:\n",
    "        freq[x] += 1\n",
    "        total += 1\n",
    "    for k,v in freq.items():\n",
    "        freq[k] /= total\n",
    "    return list(freq.items())  \n",
    "```\n",
    "## VS\n",
    "```\n",
    "    counts = seq(xs).map(lambda x: (x, 1)).reduce_by_key(lambda x, y: x + y)\n",
    "    total = counts.map(lambda x: x[1]).sum()\n",
    "    result_pdf = counts.map(lambda x: (x[0], x[1] / total)).sorted().list()\n",
    "    return result_pdf\n",
    "    \n",
    "```\n",
    "* Side effects\n",
    "* State / immutability\n",
    "* Referential transparency / pure functions\n",
    "* Scalability / parallelization\n"
   ]
  },
  {
   "cell_type": "markdown",
   "metadata": {
    "slideshow": {
     "slide_type": "slide"
    }
   },
   "source": [
    "# Spark\n",
    "\n",
    "* Cluster computing software\n",
    "* Extends map-reduce model to queries, dataframes and stream processing abstracting over cluster infrastructure and related complexity\n",
    "* In-memory intermediate storage\n",
    "* Structured data (tables) and semi-structured data (Json, XML) "
   ]
  },
  {
   "cell_type": "markdown",
   "metadata": {
    "slideshow": {
     "slide_type": "slide"
    }
   },
   "source": [
    "# Spark components\n",
    "* Language support: Scala, Java, Python, R...\n",
    "* Additional libraries: Spark SQL, ML-Lib, GraphX, Streaming\n",
    "* Base libraries: Spark Core, RDD API, DataFrame API\n",
    "* Cluster Management: Yarn, Mesos, Standalone, K8\n",
    "* Storage / data sources: Local, HDFS, S3, RDBMS, NoSQL"
   ]
  },
  {
   "cell_type": "markdown",
   "metadata": {
    "slideshow": {
     "slide_type": "slide"
    }
   },
   "source": [
    "![spark architecture](https://spark.apache.org/docs/latest/img/cluster-overview.png)"
   ]
  },
  {
   "cell_type": "markdown",
   "metadata": {
    "slideshow": {
     "slide_type": "slide"
    }
   },
   "source": [
    "# Key Spark abstractions & concepts\n",
    "\n",
    "* RDD (Resilient Distributed Dataset). A collection of elements.\n",
    "    - Immutable\n",
    "    - Partitioned\n",
    "    - Enable efficient data reuse\n",
    "    - fault-tolerant parallel data structures\n",
    "    - Intermediate persistence\n",
    "    - Partition & placement control\n",
    "    - Manipulation through coarse-grained transforms: (map, filter, persist, groupByKey, join...)\n",
    "* DAG (Directed Acyclic Graph) Scheduler.\n",
    "    - Transforms a logical execution plan of RDD lineage dependencies to a physical execution plan.\n",
    "\n",
    "* DataFrame: 2-dimensional data structure of heterogeneous types"
   ]
  }
 ],
 "metadata": {
  "kernelspec": {
   "display_name": "Python 3",
   "language": "python",
   "name": "python3"
  },
  "language_info": {
   "codemirror_mode": {
    "name": "ipython",
    "version": 3
   },
   "file_extension": ".py",
   "mimetype": "text/x-python",
   "name": "python",
   "nbconvert_exporter": "python",
   "pygments_lexer": "ipython3",
   "version": "3.6.7"
  }
 },
 "nbformat": 4,
 "nbformat_minor": 4
}
