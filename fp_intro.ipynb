{
 "cells": [
  {
   "cell_type": "markdown",
   "metadata": {
    "slideshow": {
     "slide_type": "slide"
    },
    "tags": [
     "outline"
    ]
   },
   "source": [
    "# Outline\n",
    "\n",
    "* Intro / motivation to dive into functional programming (FP)\n",
    "* Spark\n",
    "* Intro to FP in Scala"
   ]
  },
  {
   "cell_type": "markdown",
   "metadata": {
    "slideshow": {
     "slide_type": "slide"
    },
    "tags": [
     "outline"
    ]
   },
   "source": [
    "# How can FP help you produce better code?\n",
    "\n",
    "* Relieve some of the burden of flow control\n",
    "* Control side effects\n",
    "* Improved error handling\n",
    "* More reliable programs\n",
    "* Ease the burden of testing by using the type system to ensure correctness"
   ]
  },
  {
   "cell_type": "markdown",
   "metadata": {
    "slideshow": {
     "slide_type": "slide"
    }
   },
   "source": [
    "# Example: calculate the histogram / PDF "
   ]
  },
  {
   "cell_type": "code",
   "execution_count": 7,
   "metadata": {},
   "outputs": [],
   "source": [
    "from typing import Sequence, Any, Tuple\n",
    "def pdf(xs: Sequence[Any]) -> Sequence[Tuple[Any, float]]:\n",
    "    # TODO: implement\n",
    "    raise NotImplementedError(\"!\")"
   ]
  },
  {
   "cell_type": "markdown",
   "metadata": {
    "slideshow": {
     "slide_type": "slide"
    }
   },
   "source": [
    "# Imperative style"
   ]
  },
  {
   "cell_type": "code",
   "execution_count": 8,
   "metadata": {},
   "outputs": [
    {
     "name": "stdout",
     "output_type": "stream",
     "text": [
      "[('man', 0.2), ('woman', 0.2), ('person', 0.2), ('camera', 0.2), ('tv', 0.2)]\n"
     ]
    }
   ],
   "source": [
    "from collections import defaultdict\n",
    "def pdf(xs: Sequence[Any]) -> Sequence[Tuple[Any, float]]:\n",
    "    \"\"\"returns a list of tuples with element and probability\"\"\"\n",
    "    freq = defaultdict(lambda: 0)\n",
    "    total = 0\n",
    "    for x in xs:\n",
    "        freq[x] += 1\n",
    "        total += 1\n",
    "    for k,v in freq.items():\n",
    "        freq[k] /= total\n",
    "    return list(freq.items())  \n",
    "\n",
    "xs = ['man', 'woman', 'person', 'camera', 'tv']\n",
    "print(pdf(xs))"
   ]
  },
  {
   "cell_type": "markdown",
   "metadata": {
    "slideshow": {
     "slide_type": "slide"
    }
   },
   "source": [
    "# Functional primitives\n",
    "map & reduce"
   ]
  },
  {
   "cell_type": "markdown",
   "metadata": {
    "slideshow": {
     "slide_type": "slide"
    }
   },
   "source": [
    "![map](https://d33wubrfki0l68.cloudfront.net/f0494d020aa517ae7b1011cea4c4a9f21702df8b/2577b/diagrams/functionals/map.png)"
   ]
  },
  {
   "cell_type": "markdown",
   "metadata": {
    "slideshow": {
     "slide_type": "slide"
    }
   },
   "source": [
    "![reduce](https://d33wubrfki0l68.cloudfront.net/9c239e1227c69b7a2c9c2df234c21f3e1c74dd57/eec0e/diagrams/functionals/reduce.png)"
   ]
  },
  {
   "cell_type": "markdown",
   "metadata": {
    "slideshow": {
     "slide_type": "slide"
    }
   },
   "source": [
    "# Histogram with map / reduce"
   ]
  },
  {
   "cell_type": "code",
   "execution_count": 9,
   "metadata": {
    "slideshow": {
     "slide_type": "fragment"
    }
   },
   "outputs": [
    {
     "name": "stdout",
     "output_type": "stream",
     "text": [
      "['b' 'c' 'c' 'b' 'a' 'b' 'b' 'a' 'b' 'a']\n"
     ]
    },
    {
     "data": {
      "text/html": [
       "<table>\n",
       "<tbody>\n",
       "<tr><td>b</td><td style=\"text-align: right;\">5</td></tr>\n",
       "<tr><td>c</td><td style=\"text-align: right;\">2</td></tr>\n",
       "<tr><td>a</td><td style=\"text-align: right;\">3</td></tr>\n",
       "</tbody>\n",
       "</table>"
      ],
      "text/plain": [
       "[('b', 5), ('c', 2), ('a', 3)]"
      ]
     },
     "execution_count": 9,
     "metadata": {},
     "output_type": "execute_result"
    }
   ],
   "source": [
    "from functional import seq\n",
    "import numpy as np\n",
    "xs = np.random.choice(['a', 'b', 'c'], size=10)\n",
    "print(xs)\n",
    "counts = seq(xs).map(lambda x: (x, 1)).reduce_by_key(lambda x, y: x + y)\n",
    "counts  "
   ]
  },
  {
   "cell_type": "code",
   "execution_count": 10,
   "metadata": {
    "slideshow": {
     "slide_type": "fragment"
    }
   },
   "outputs": [
    {
     "data": {
      "text/plain": [
       "[('a', 0.3), ('b', 0.5), ('c', 0.2)]"
      ]
     },
     "execution_count": 10,
     "metadata": {},
     "output_type": "execute_result"
    }
   ],
   "source": [
    "total = counts.map(lambda x: x[1]).sum()\n",
    "result_pdf = counts.map(lambda x: (x[0], x[1] / total)).sorted().list()\n",
    "result_pdf"
   ]
  },
  {
   "cell_type": "markdown",
   "metadata": {
    "slideshow": {
     "slide_type": "slide"
    }
   },
   "source": [
    "# Putting it all together: PDF functional style"
   ]
  },
  {
   "cell_type": "code",
   "execution_count": 11,
   "metadata": {},
   "outputs": [],
   "source": [
    "def pdf(xs: Sequence[Any]) -> Sequence[Tuple[Any, float]]:\n",
    "    counts = seq(xs).map(lambda x: (x, 1)).reduce_by_key(lambda x, y: x + y)\n",
    "    total = counts.map(lambda x: x[1]).sum()\n",
    "    result_pdf = counts.map(lambda x: (x[0], x[1] / total)).sorted().list()\n",
    "    return result_pdf"
   ]
  },
  {
   "cell_type": "code",
   "execution_count": 12,
   "metadata": {},
   "outputs": [
    {
     "name": "stdout",
     "output_type": "stream",
     "text": [
      "[('a', 0.3), ('b', 0.5), ('c', 0.2)]\n"
     ]
    }
   ],
   "source": [
    "print(pdf(xs))"
   ]
  },
  {
   "cell_type": "markdown",
   "metadata": {
    "slideshow": {
     "slide_type": "slide"
    }
   },
   "source": [
    "# Comparison\n",
    "\n",
    "## Imperative:\n",
    "\n",
    "```\n",
    "    freq = defaultdict(lambda: 0)\n",
    "    total = 0\n",
    "    for x in xs:\n",
    "        freq[x] += 1\n",
    "        total += 1\n",
    "    for k,v in freq.items():\n",
    "        freq[k] /= total\n",
    "    return list(freq.items())  \n",
    "```\n",
    "## Functional\n",
    "```\n",
    "    counts = seq(xs).map(lambda x: (x, 1)).reduce_by_key(lambda x, y: x + y)\n",
    "    total = counts.map(lambda x: x[1]).sum()\n",
    "    result_pdf = counts.map(lambda x: (x[0], x[1] / total)).sorted().list()\n",
    "    return result_pdf\n",
    "    \n",
    "```\n",
    "* Less side effects\n",
    "* Less State / more immutability\n",
    "* Referential transparency / pure functions\n",
    "* Open for scalability / parallelization\n"
   ]
  }
 ],
 "metadata": {
  "kernelspec": {
   "display_name": "Python 3",
   "language": "python",
   "name": "python3"
  },
  "language_info": {
   "codemirror_mode": {
    "name": "ipython",
    "version": 3
   },
   "file_extension": ".py",
   "mimetype": "text/x-python",
   "name": "python",
   "nbconvert_exporter": "python",
   "pygments_lexer": "ipython3",
   "version": "3.6.9"
  }
 },
 "nbformat": 4,
 "nbformat_minor": 4
}
