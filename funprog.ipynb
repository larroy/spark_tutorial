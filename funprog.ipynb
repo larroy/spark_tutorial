{
 "cells": [
  {
   "cell_type": "markdown",
   "metadata": {},
   "source": [
    "# FP constructs\n",
    "\n",
    "First functional programming language was LISP in late 1950s...\n",
    "\n",
    "The concepts apply to any FP language (give or take particular language features)\n",
    "\n",
    "(Scala, OCaml, Haskell, Erlang, Lisps...)\n",
    "\n",
    "* Algebraic Data Types (ADT) and pattern matching\n",
    "* Optional\n",
    "* Higher order and polymorphic functions\n",
    "* Immutable data structures\n",
    "* Pattern matching\n"
   ]
  },
  {
   "cell_type": "markdown",
   "metadata": {
    "slideshow": {
     "slide_type": "slide"
    }
   },
   "source": [
    "# Case classes and pattern matching"
   ]
  },
  {
   "cell_type": "code",
   "execution_count": 47,
   "metadata": {
    "slideshow": {
     "slide_type": "fragment"
    }
   },
   "outputs": [
    {
     "data": {
      "text/plain": [
       "defined class Person\n"
      ]
     },
     "execution_count": 47,
     "metadata": {},
     "output_type": "execute_result"
    }
   ],
   "source": [
    "case class Person(name: String, lastName: String, age: Int, weight: Int, height_cm: Int)"
   ]
  },
  {
   "cell_type": "code",
   "execution_count": 52,
   "metadata": {
    "slideshow": {
     "slide_type": "fragment"
    }
   },
   "outputs": [
    {
     "data": {
      "text/plain": [
       "pedro: Person = Person(Pedro,Larroy,39,67,174)\n",
       "bmi: (person: Person)Double\n",
       "res28: Double = 65.0\n"
      ]
     },
     "execution_count": 52,
     "metadata": {},
     "output_type": "execute_result"
    }
   ],
   "source": [
    "val pedro = Person(\"Pedro\", \"Larroy\", 39, 67, 174)\n",
    "def bmi(person: Person): Double = person match {\n",
    "    case Person(_, _, _, weight, height_cm) => (weight / (height_cm/100)^2) \n",
    "}\n",
    "bmi(pedro)"
   ]
  },
  {
   "cell_type": "markdown",
   "metadata": {
    "slideshow": {
     "slide_type": "fragment"
    }
   },
   "source": [
    "For making changes you have to create a copy"
   ]
  },
  {
   "cell_type": "code",
   "execution_count": 54,
   "metadata": {
    "slideshow": {
     "slide_type": "fragment"
    }
   },
   "outputs": [
    {
     "data": {
      "text/plain": [
       "mary: Person = Person(Mary,Poppins,39,67,174)\n"
      ]
     },
     "execution_count": 54,
     "metadata": {},
     "output_type": "execute_result"
    }
   ],
   "source": [
    "val mary = pedro.copy(name=\"Mary\", lastName=\"Poppins\")"
   ]
  },
  {
   "cell_type": "markdown",
   "metadata": {
    "slideshow": {
     "slide_type": "slide"
    }
   },
   "source": [
    "Case classes are an example of product types (the set of possible values are its cartessian product). \n",
    "Another example of product types are tuples.\n",
    "\n",
    "One instance of ADTs are sum types\n",
    "\n",
    "# Sum types\n",
    "\n",
    "Sum types must be an instance of one of the types exclusively, ValidationError OR RuntimeError"
   ]
  },
  {
   "cell_type": "code",
   "execution_count": 83,
   "metadata": {
    "slideshow": {
     "slide_type": "slide"
    }
   },
   "outputs": [
    {
     "data": {
      "text/plain": [
       "defined trait Error\n",
       "defined object ValidationError\n",
       "defined object RuntimeError\n"
      ]
     },
     "execution_count": 83,
     "metadata": {},
     "output_type": "execute_result"
    }
   ],
   "source": [
    "sealed trait Error\n",
    "case object ValidationError\n",
    "case object RuntimeError"
   ]
  },
  {
   "cell_type": "code",
   "execution_count": 85,
   "metadata": {
    "slideshow": {
     "slide_type": "fragment"
    }
   },
   "outputs": [
    {
     "data": {
      "text/plain": [
       "defined class Tag\n",
       "parse: (x: String)Either[Tag,Error]\n"
      ]
     },
     "execution_count": 85,
     "metadata": {},
     "output_type": "execute_result"
    }
   ],
   "source": [
    "case class Tag(t: String, attrs: Object)\n",
    "def parse(x: String): Either[Tag, Error] = { ??? }"
   ]
  },
  {
   "cell_type": "code",
   "execution_count": 94,
   "metadata": {
    "slideshow": {
     "slide_type": "fragment"
    }
   },
   "outputs": [
    {
     "data": {
      "text/plain": [
       "<console>:33: warning: unreachable code\n",
       "           case Right(error: Error) => {???}\n",
       "                                        ^\n",
       "doSmth: (x: String)Unit\n"
      ]
     },
     "execution_count": 94,
     "metadata": {},
     "output_type": "execute_result"
    }
   ],
   "source": [
    "def doSmth(x: String): Unit = parse(x) match {\n",
    "    case Left(tag: Tag) => {???}\n",
    "    case Right(error: Error) => {???}\n",
    "}"
   ]
  },
  {
   "cell_type": "markdown",
   "metadata": {
    "slideshow": {
     "slide_type": "slide"
    }
   },
   "source": [
    "# Optional\n"
   ]
  },
  {
   "cell_type": "markdown",
   "metadata": {
    "slideshow": {
     "slide_type": "subslide"
    }
   },
   "source": [
    "# Motivation: Python html parsing example\n",
    "\n",
    "```\n",
    "html = parse(\"\"\"\n",
    "    <p>\n",
    "    <a href=\"https://www.w3schools.com\">\n",
    "    <img border=\"0\" alt=\"W3Schools\" src=\"logo_w3s.gif\" width=\"100\" height=\"100\" />\n",
    "    </a>\n",
    "    </p>\n",
    "    \"\"\")\n",
    "# def get(self, k: _KT) -> Optional[_VT_co]\n",
    "p = html.get(\"p\")\n",
    "if p:\n",
    "    a = html.get(\"a\")  \n",
    "    if a:\n",
    "        img = tag.get(\"img\")\n",
    "        [... do something ...]\n",
    "```\n",
    "We would like to chain operations / describe computation in a seamless way without specific handling of None"
   ]
  },
  {
   "cell_type": "markdown",
   "metadata": {
    "slideshow": {
     "slide_type": "slide"
    }
   },
   "source": [
    "# Monads"
   ]
  },
  {
   "cell_type": "markdown",
   "metadata": {
    "slideshow": {
     "slide_type": "slide"
    }
   },
   "source": [
    "![monad](https://miro.medium.com/max/700/0*fMijJbDb49jl5G1e)"
   ]
  },
  {
   "cell_type": "markdown",
   "metadata": {
    "slideshow": {
     "slide_type": "slide"
    }
   },
   "source": [
    "# Scala Option monad\n",
    "\n",
    "```\n",
    "sealed abstract class Option[+A] ..\n",
    "final case class Some[+A](value: A) extends Option[A] ...\n",
    "case object None extends Option[Nothing]\n",
    "...\n",
    "final def map[B](f: (A) => B): Option[B]\n",
    "final def flatMap[B](f: (A) => Option[B]): Option[B]\n",
    "...\n",
    "```"
   ]
  },
  {
   "cell_type": "code",
   "execution_count": 66,
   "metadata": {
    "slideshow": {
     "slide_type": "slide"
    }
   },
   "outputs": [
    {
     "data": {
      "text/plain": [
       "maybe_s: Some[String] = Some(string value)\n",
       "maybe_sz: Option[Int] = Some(12)\n",
       "psize: (x: Option[Int])String\n",
       "res37: String = string length: 12\n"
      ]
     },
     "execution_count": 66,
     "metadata": {},
     "output_type": "execute_result"
    }
   ],
   "source": [
    "val maybe_s = Some(\"string value\")\n",
    "val maybe_sz = x.map(_.size)\n",
    "def psize(x: Option[Int]): String = x match {\n",
    "    case Some(x) => s\"string length: $x\"\n",
    "    case None => \"string is empty\"\n",
    "}\n",
    "psize(maybe_sz)"
   ]
  },
  {
   "cell_type": "code",
   "execution_count": 81,
   "metadata": {
    "slideshow": {
     "slide_type": "slide"
    }
   },
   "outputs": [
    {
     "data": {
      "text/plain": [
       "mx: Some[Int] = Some(5)\n",
       "res47: Option[Int] = Some(500000)\n"
      ]
     },
     "execution_count": 81,
     "metadata": {},
     "output_type": "execute_result"
    }
   ],
   "source": [
    "val mx = Some(5)\n",
    "mx.map(_*10).map(_*100).map(_*100)"
   ]
  },
  {
   "cell_type": "code",
   "execution_count": 82,
   "metadata": {
    "slideshow": {
     "slide_type": "fragment"
    }
   },
   "outputs": [
    {
     "data": {
      "text/plain": [
       "mx: Some[Int] = Some(5)\n",
       "times2: (x: Int)Option[Int]\n",
       "res48: Option[Int] = Some(10)\n"
      ]
     },
     "execution_count": 82,
     "metadata": {},
     "output_type": "execute_result"
    }
   ],
   "source": [
    "val mx = Some(5)\n",
    "def times2(x: Int): Option[Int] = {\n",
    "    Some(x*2)\n",
    "}\n",
    "mx.flatMap(times2)"
   ]
  },
  {
   "cell_type": "code",
   "execution_count": 69,
   "metadata": {
    "slideshow": {
     "slide_type": "fragment"
    }
   },
   "outputs": [
    {
     "data": {
      "text/plain": [
       "x: Option[Int] = None\n",
       "res40: Option[Int] = None\n"
      ]
     },
     "execution_count": 69,
     "metadata": {},
     "output_type": "execute_result"
    }
   ],
   "source": [
    "val x = None : Option[Int]\n",
    "x.map(_*10).map(_*100).map(_*100)"
   ]
  },
  {
   "cell_type": "markdown",
   "metadata": {
    "slideshow": {
     "slide_type": "slide"
    }
   },
   "source": [
    "So Option allows us to chain operations on types that might be None with safety and without if - else blocks\n",
    "```\n",
    "val html: Option[Tag] = parse(\"\"\"\n",
    "<p>\n",
    "<a href=\"https://www.w3schools.com\">\n",
    "<img border=\"0\" alt=\"W3Schools\" src=\"logo_w3s.gif\" width=\"100\" height=\"100\" />\n",
    "</a>\n",
    "</p>\n",
    "\"\"\")\n",
    "// def get(child: String): Option[Tag]\n",
    "html.flatMap(_.get(\"p\")).flatMap(_.get(\"a\")).flatMap(_.get(\"img\")).map(doSomething)\n",
    "```"
   ]
  },
  {
   "cell_type": "markdown",
   "metadata": {
    "slideshow": {
     "slide_type": "slide"
    }
   },
   "source": [
    "# Higher order and polymorphic functions"
   ]
  },
  {
   "cell_type": "code",
   "execution_count": 3,
   "metadata": {
    "slideshow": {
     "slide_type": "slide"
    }
   },
   "outputs": [
    {
     "data": {
      "text/plain": [
       "partial1: [A, B, C](a: A, f: (A, B) => C)B => C\n"
      ]
     },
     "execution_count": 3,
     "metadata": {},
     "output_type": "execute_result"
    }
   ],
   "source": [
    "def partial1[A, B, C](a: A, f: (A,B) => C): B => C =  { ??? }"
   ]
  },
  {
   "cell_type": "code",
   "execution_count": 6,
   "metadata": {
    "slideshow": {
     "slide_type": "fragment"
    }
   },
   "outputs": [
    {
     "ename": "scala.NotImplementedError",
     "evalue": " an implementation is missing",
     "output_type": "error",
     "traceback": [
      "scala.NotImplementedError: an implementation is missing",
      "  at scala.Predef$.$qmark$qmark$qmark(Predef.scala:288)",
      "  at partial1(<console>:24)",
      "  ... 37 elided",
      ""
     ]
    }
   ],
   "source": [
    "partial1(\"a\", (a: String, b: String) => a + b)"
   ]
  },
  {
   "cell_type": "code",
   "execution_count": 7,
   "metadata": {
    "slideshow": {
     "slide_type": "fragment"
    }
   },
   "outputs": [
    {
     "data": {
      "text/plain": [
       "partial1: [A, B, C](a: A, f: (A, B) => C)B => C\n"
      ]
     },
     "execution_count": 7,
     "metadata": {},
     "output_type": "execute_result"
    }
   ],
   "source": [
    "def partial1[A, B, C](a: A, f: (A,B) => C): B => C =  { \n",
    "    (b:B) => f(a, b)\n",
    "}"
   ]
  },
  {
   "cell_type": "code",
   "execution_count": 12,
   "metadata": {
    "slideshow": {
     "slide_type": "fragment"
    }
   },
   "outputs": [
    {
     "data": {
      "text/plain": [
       "f: String => String = $Lambda$2380/0x0000000840e72040@666f6485\n"
      ]
     },
     "execution_count": 12,
     "metadata": {},
     "output_type": "execute_result"
    }
   ],
   "source": [
    "val f = partial1(\"The \", (a: String, b: String) => a + b)"
   ]
  },
  {
   "cell_type": "code",
   "execution_count": 13,
   "metadata": {
    "slideshow": {
     "slide_type": "skip"
    }
   },
   "outputs": [
    {
     "data": {
      "text/plain": [
       "res6: String = The light\n"
      ]
     },
     "execution_count": 13,
     "metadata": {},
     "output_type": "execute_result"
    }
   ],
   "source": [
    "f(\"light\")"
   ]
  },
  {
   "cell_type": "code",
   "execution_count": 16,
   "metadata": {
    "slideshow": {
     "slide_type": "slide"
    }
   },
   "outputs": [
    {
     "data": {
      "text/plain": [
       "curry: [A, B, C](f: (A, B) => C)A => (B => C)\n"
      ]
     },
     "execution_count": 16,
     "metadata": {},
     "output_type": "execute_result"
    }
   ],
   "source": [
    "def curry[A,B,C](f: (A, B) => C): A => (B => C) = { ??? }"
   ]
  },
  {
   "cell_type": "code",
   "execution_count": 17,
   "metadata": {
    "slideshow": {
     "slide_type": "fragment"
    }
   },
   "outputs": [
    {
     "data": {
      "text/plain": [
       "curry: [A, B, C](f: (A, B) => C)A => (B => C)\n"
      ]
     },
     "execution_count": 17,
     "metadata": {},
     "output_type": "execute_result"
    }
   ],
   "source": [
    "def curry[A,B,C](f: (A, B) => C): A => (B => C) = {\n",
    "    (a: A) => partial1(a, f)\n",
    "}"
   ]
  },
  {
   "cell_type": "code",
   "execution_count": 23,
   "metadata": {
    "slideshow": {
     "slide_type": "fragment"
    }
   },
   "outputs": [
    {
     "data": {
      "text/plain": [
       "res12: String = The light\n"
      ]
     },
     "execution_count": 23,
     "metadata": {},
     "output_type": "execute_result"
    }
   ],
   "source": [
    "curry((a: String, b: String) => a + b)(\"The \")(\"light\")"
   ]
  },
  {
   "cell_type": "markdown",
   "metadata": {
    "slideshow": {
     "slide_type": "slide"
    }
   },
   "source": [
    "# Functional data structures\n",
    "* As with referential transparency and pure functions, we want immutable data structures\n",
    "* No need for locking -> improved concurrency\n",
    "* Sequencing less important -> programs are more declarative\n",
    "* Reduced side effects"
   ]
  },
  {
   "cell_type": "markdown",
   "metadata": {
    "slideshow": {
     "slide_type": "slide"
    }
   },
   "source": [
    "![data structures](https://i.stack.imgur.com/2fjoA.png)"
   ]
  },
  {
   "cell_type": "code",
   "execution_count": 25,
   "metadata": {
    "slideshow": {
     "slide_type": "slide"
    }
   },
   "outputs": [
    {
     "data": {
      "text/plain": [
       "xs: List[Int] = List(1, 2, 3)\n"
      ]
     },
     "execution_count": 25,
     "metadata": {},
     "output_type": "execute_result"
    }
   ],
   "source": [
    "val xs = List(1,2,3)"
   ]
  },
  {
   "cell_type": "code",
   "execution_count": 30,
   "metadata": {
    "slideshow": {
     "slide_type": "fragment"
    }
   },
   "outputs": [
    {
     "data": {
      "text/plain": [
       "m: scala.collection.immutable.Map[String,Int] = Map(John -> 3, Mary -> 2)\n"
      ]
     },
     "execution_count": 30,
     "metadata": {},
     "output_type": "execute_result"
    }
   ],
   "source": [
    "val m = Map(\"John\" -> 3, \"Mary\" -> 2)"
   ]
  },
  {
   "cell_type": "code",
   "execution_count": 31,
   "metadata": {
    "slideshow": {
     "slide_type": "fragment"
    }
   },
   "outputs": [
    {
     "data": {
      "text/plain": [
       "res16: Int = 3\n"
      ]
     },
     "execution_count": 31,
     "metadata": {},
     "output_type": "execute_result"
    }
   ],
   "source": [
    "m(\"John\")"
   ]
  },
  {
   "cell_type": "code",
   "execution_count": 35,
   "metadata": {
    "slideshow": {
     "slide_type": "fragment"
    }
   },
   "outputs": [
    {
     "data": {
      "text/plain": [
       "all: scala.collection.immutable.Map[String,Int] = Map(John -> 3, Mary -> 2, Me -> 4)\n"
      ]
     },
     "execution_count": 35,
     "metadata": {},
     "output_type": "execute_result"
    }
   ],
   "source": [
    "val all = m + (\"Me\" -> 4)"
   ]
  },
  {
   "cell_type": "code",
   "execution_count": 36,
   "metadata": {
    "slideshow": {
     "slide_type": "fragment"
    }
   },
   "outputs": [
    {
     "data": {
      "text/plain": [
       "res19: scala.collection.immutable.Map[String,Int] = Map(John -> 3, Mary -> 2)\n"
      ]
     },
     "execution_count": 36,
     "metadata": {},
     "output_type": "execute_result"
    }
   ],
   "source": [
    "m"
   ]
  },
  {
   "cell_type": "markdown",
   "metadata": {
    "slideshow": {
     "slide_type": "slide"
    }
   },
   "source": [
    "Let's check the definition of List from Scaladoc\n",
    "```\n",
    "traitMap[K, +V] extends Iterable[(K, V)] with collection.Map[K, V] with MapOps[K, V, Map, Map[K, V]] with MapFactoryDefaults[K, V, Map, Iterable]\n",
    "```\n",
    "The `+V` means the V type is covariant, so a `Map[String, Cat]` is also a `Map[String, Animal]` if  `Cat` extends `Animal`. A minus `-` sign indicates the reverse, also called contravariance.\n",
    "\n",
    "```\n",
    "class Foo[+A] // A covariant class\n",
    "class Bar[-A] // A contravariant class\n",
    "class Baz[A]  // An invariant class\n",
    "```"
   ]
  },
  {
   "cell_type": "markdown",
   "metadata": {
    "slideshow": {
     "slide_type": "slide"
    }
   },
   "source": [
    "# Pattern matching on Lists"
   ]
  },
  {
   "cell_type": "code",
   "execution_count": 37,
   "metadata": {},
   "outputs": [
    {
     "data": {
      "text/plain": [
       "people: List[String] = List(John, Mary, Peter)\n"
      ]
     },
     "execution_count": 37,
     "metadata": {},
     "output_type": "execute_result"
    }
   ],
   "source": [
    "val people = List(\"John\", \"Mary\", \"Peter\")"
   ]
  },
  {
   "cell_type": "code",
   "execution_count": 39,
   "metadata": {},
   "outputs": [
    {
     "data": {
      "text/plain": [
       "is_everybodyPresent: [T](xs: List[T])Boolean\n"
      ]
     },
     "execution_count": 39,
     "metadata": {},
     "output_type": "execute_result"
    }
   ],
   "source": [
    "def is_everybodyPresent[T](xs: List[T]): Boolean = xs match {\n",
    "    case Nil => false\n",
    "    case \"John\" :: \"Mary\" :: \"Peter\" :: Nil => true\n",
    "    case _ => false\n",
    "}"
   ]
  },
  {
   "cell_type": "code",
   "execution_count": 40,
   "metadata": {},
   "outputs": [
    {
     "data": {
      "text/plain": [
       "res20: Boolean = true\n"
      ]
     },
     "execution_count": 40,
     "metadata": {},
     "output_type": "execute_result"
    }
   ],
   "source": [
    "is_everybodyPresent(people)"
   ]
  },
  {
   "cell_type": "code",
   "execution_count": 43,
   "metadata": {},
   "outputs": [
    {
     "data": {
      "text/plain": [
       "res23: Boolean = false\n"
      ]
     },
     "execution_count": 43,
     "metadata": {},
     "output_type": "execute_result"
    }
   ],
   "source": [
    "is_everybodyPresent(\"John\" :: \"Mary\" :: Nil)"
   ]
  },
  {
   "cell_type": "markdown",
   "metadata": {
    "slideshow": {
     "slide_type": "slide"
    }
   },
   "source": [
    "# Conclusion\n",
    "\n",
    "FP constructs help us build reliable programs that use the type system to verify correctness at compile time.\n",
    "FP constructs can create more scalable and parallelizable programs with better control of side effects and better resource utilization.\n",
    "Programs can be easier to maintain and reason about.\n",
    "\n",
    "For small programs, prototypes and scripts is usually not worth bothering about types, hence Python. Benefits compound beyond a certain scale for medium and large projects."
   ]
  }
 ],
 "metadata": {
  "kernelspec": {
   "display_name": "spylon-kernel",
   "language": "scala",
   "name": "spylon-kernel"
  },
  "language_info": {
   "codemirror_mode": "text/x-scala",
   "file_extension": ".scala",
   "help_links": [
    {
     "text": "MetaKernel Magics",
     "url": "https://metakernel.readthedocs.io/en/latest/source/README.html"
    }
   ],
   "mimetype": "text/x-scala",
   "name": "scala",
   "pygments_lexer": "scala",
   "version": "0.4.1"
  }
 },
 "nbformat": 4,
 "nbformat_minor": 4
}
